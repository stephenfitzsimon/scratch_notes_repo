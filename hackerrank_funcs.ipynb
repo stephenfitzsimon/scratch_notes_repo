{
 "cells": [
  {
   "cell_type": "code",
   "execution_count": 30,
   "id": "7ddefcfe-ea96-4654-9de9-90343630133f",
   "metadata": {},
   "outputs": [],
   "source": [
    "import random\n",
    "import re"
   ]
  },
  {
   "cell_type": "code",
   "execution_count": 2,
   "id": "e24117da-5ff4-4ffa-98b2-ce8654cdd0a3",
   "metadata": {},
   "outputs": [],
   "source": [
    "#directly calculating the numbers using a closed form\n",
    "def sum_up_to_n(n):\n",
    "    return int(n*(n+1)/2)\n",
    "\n",
    "def fibonacci_number(n):\n",
    "    golden_ratio = (1 + 5**(1/2))/2\n",
    "    return round(golden_ratio**n/5**(1/2))"
   ]
  },
  {
   "cell_type": "code",
   "execution_count": 3,
   "id": "efe80074-8c14-4b1d-967e-a6d3d4de5c2c",
   "metadata": {},
   "outputs": [],
   "source": [
    "#using recursion\n",
    "def sum_up_to_n_recursion(n):\n",
    "    if n != 0:\n",
    "        return n + sum_up_to_n_recursion(n-1)\n",
    "    else:\n",
    "        return n\n",
    "    \n",
    "def fibonacci_recursion(n):\n",
    "    if n <= 2:\n",
    "        return 1\n",
    "    else:\n",
    "        return fibonacci_recursion(n-1) + fibonacci_recursion(n-2)\n",
    "    \n",
    "def factorial(n):\n",
    "    if n == 0:\n",
    "        return 1\n",
    "    else:\n",
    "        return n*factorial(n-1)\n",
    "    \n",
    "#using a list\n",
    "def sum_up_to_n_list(n):\n",
    "    return sum([k for k in range(n+1)])"
   ]
  },
  {
   "cell_type": "code",
   "execution_count": 4,
   "id": "682338d5-b0c8-4976-bd22-998856c23e0c",
   "metadata": {},
   "outputs": [],
   "source": [
    "def fibonacci_generator():\n",
    "    count = 1\n",
    "    while True:\n",
    "        yield fibonacci_number(count)\n",
    "        count += 1"
   ]
  },
  {
   "cell_type": "code",
   "execution_count": 237,
   "id": "de7a08d7-e7b0-43e8-9b83-eabc1b71e329",
   "metadata": {},
   "outputs": [
    {
     "name": "stdout",
     "output_type": "stream",
     "text": [
      "True\n",
      "True\n",
      "False\n"
     ]
    }
   ],
   "source": [
    "def palindrome_id(word):\n",
    "    \"\"\"\n",
    "    Returns a boolean representing if the string is a palindrome\n",
    "    True -> word is a palindrom\n",
    "    \"\"\"\n",
    "    word_list = [c for c in word.replace(' ', '').lower()]\n",
    "    word_reverse = list(reversed(word_list))\n",
    "    i = 0\n",
    "    while i <= (len(word_list)-1)/2:\n",
    "        if word_list[i] != word_reverse[i]:\n",
    "            return False\n",
    "        i += 1\n",
    "    return True\n",
    "\n",
    "print(palindrome_id(\"taco cat\"))\n",
    "print(palindrome_id(\"raceCAR\"))\n",
    "print(palindrome_id(\"palindrome\"))"
   ]
  },
  {
   "cell_type": "code",
   "execution_count": 6,
   "id": "43c0a812-cccc-4c57-95e0-adbee7881a41",
   "metadata": {},
   "outputs": [],
   "source": [
    "def find_summands(nums, target):\n",
    "    i = 0\n",
    "    found = False\n",
    "    while i < len(nums):\n",
    "        difference = target - nums[i]\n",
    "        if difference < 0:\n",
    "            i += 1\n",
    "            continue\n",
    "        else:\n",
    "            if difference in nums[i+1:]:\n",
    "                return [i, nums.index(difference, i+1)]\n",
    "            else:\n",
    "                i += 1\n",
    "                continue\n",
    "    return None"
   ]
  },
  {
   "cell_type": "code",
   "execution_count": 7,
   "id": "700b88eb-d10a-44ee-8f85-e17dd08bada7",
   "metadata": {},
   "outputs": [
    {
     "data": {
      "text/plain": [
       "([0, 1], [1, 2], [0, 1])"
      ]
     },
     "execution_count": 7,
     "metadata": {},
     "output_type": "execute_result"
    }
   ],
   "source": [
    "find_summands(nums = [2,7,11,15], target = 9), find_summands(nums = [3,2,4], target = 6), find_summands(nums = [3,3], target = 6)"
   ]
  },
  {
   "cell_type": "code",
   "execution_count": 8,
   "id": "8a6dfb26-68ea-4f58-98a9-8b2a20a883da",
   "metadata": {},
   "outputs": [],
   "source": [
    "def get_random_list_with_sum(min_range = 0, max_range = 20):\n",
    "    rand_list = [random.randrange(min_range, max_range) for x in range(random.randrange(2, 10))]\n",
    "    rand_num_1 = random.choice(rand_list)\n",
    "    rand_num_2 = random.choice(rand_list[:rand_list.index(rand_num_1)]+rand_list[rand_list.index(rand_num_1)+1:])\n",
    "    target_sum = rand_num_1 + rand_num_2\n",
    "    return rand_list, target_sum"
   ]
  },
  {
   "cell_type": "code",
   "execution_count": 9,
   "id": "59126069-aef7-4f7d-916c-74a27767cced",
   "metadata": {},
   "outputs": [
    {
     "name": "stdout",
     "output_type": "stream",
     "text": [
      "[0, 3, 14, 16, 17]\n",
      "33\n"
     ]
    },
    {
     "data": {
      "text/plain": [
       "[3, 4]"
      ]
     },
     "execution_count": 9,
     "metadata": {},
     "output_type": "execute_result"
    }
   ],
   "source": [
    "list_nums, target = get_random_list_with_sum()\n",
    "print(list_nums)\n",
    "print(target)\n",
    "find_summands(nums = list_nums, target = target)"
   ]
  },
  {
   "cell_type": "code",
   "execution_count": 10,
   "id": "1c026d1c-34ad-49fc-a958-c13edf642c4b",
   "metadata": {},
   "outputs": [
    {
     "name": "stdout",
     "output_type": "stream",
     "text": [
      "     #\n",
      "    ##\n",
      "   ###\n",
      "  ####\n",
      " #####\n",
      "######\n",
      "\n"
     ]
    }
   ],
   "source": [
    "def staircase(n):\n",
    "    print(''.join([f\"{' '*(n-x)}{'#'*(x)}\\n\"  for x in range(1, n+1)]))\n",
    "\n",
    "staircase(random.randrange(2, 10))"
   ]
  },
  {
   "cell_type": "code",
   "execution_count": 11,
   "id": "c49a129c-dd52-4e6f-a511-add6276b7f5c",
   "metadata": {},
   "outputs": [],
   "source": [
    "def kangaroo(x1, v1, x2, v2):\n",
    "    t = 0\n",
    "    d = -1 # abs((x1-x2)+t*(v1-v2))\n",
    "    while d != 0 and t < 1_000_000:\n",
    "        d = abs((x1-x2)+t*(v1-v2))\n",
    "        print(f\"t = {t} d = {d}\")\n",
    "        if d == 0:\n",
    "            return \"YES\"\n",
    "        t += 1\n",
    "    return \"NO\""
   ]
  },
  {
   "cell_type": "code",
   "execution_count": 12,
   "id": "9a5d5485-7152-4a8d-a755-089bfeac7fd5",
   "metadata": {},
   "outputs": [
    {
     "name": "stdout",
     "output_type": "stream",
     "text": [
      "t = 0 d = 2557\n",
      "t = 1 d = 0\n"
     ]
    },
    {
     "data": {
      "text/plain": [
       "'YES'"
      ]
     },
     "execution_count": 12,
     "metadata": {},
     "output_type": "execute_result"
    }
   ],
   "source": [
    "kangaroo(2564, 5393, 5121, 2836)"
   ]
  },
  {
   "cell_type": "code",
   "execution_count": 14,
   "id": "05823fea-8411-4104-86c7-ed11d8d01b70",
   "metadata": {},
   "outputs": [
    {
     "name": "stdout",
     "output_type": "stream",
     "text": [
      "------------------.|.------------------\n",
      "---------------.|..|..|.---------------\n",
      "------------.|..|..|..|..|.------------\n",
      "---------.|..|..|..|..|..|..|.---------\n",
      "------.|..|..|..|..|..|..|..|..|.------\n",
      "---.|..|..|..|..|..|..|..|..|..|..|.---\n",
      "----------------WELCOME----------------\n",
      "---.|..|..|..|..|..|..|..|..|..|..|.---\n",
      "------.|..|..|..|..|..|..|..|..|.------\n",
      "---------.|..|..|..|..|..|..|.---------\n",
      "------------.|..|..|..|..|.------------\n",
      "---------------.|..|..|.---------------\n",
      "------------------.|.------------------\n"
     ]
    }
   ],
   "source": [
    "def door_mat(dim):\n",
    "    top = [l.center(dim[1], '-') for l in ['.|.'*x for x in range(1, dim[0]-1, 2)]]\n",
    "    center_line = 'WELCOME'.center(dim[1], '-')\n",
    "    \n",
    "    print('\\n'.join(top))\n",
    "    print(center_line)\n",
    "    print('\\n'.join(reversed(top)))\n",
    "    \n",
    "rand_odd = random.randrange(5, 20+1, 2)\n",
    "door_mat([rand_odd,rand_odd*3])"
   ]
  },
  {
   "cell_type": "code",
   "execution_count": 127,
   "id": "adf2aac4-f4e7-4e41-9580-77f2db0c36d2",
   "metadata": {},
   "outputs": [],
   "source": [
    "def solve(s):\n",
    "    new_s = \"\"\n",
    "    start = 0\n",
    "    for i in re.finditer(r'\\b[a-z]', s):\n",
    "        new_s += s[start:i.span()[0]] + s[i.span()[0]].capitalize()\n",
    "        start = i.span()[1]\n",
    "    new_s += s[start:]\n",
    "    return new_s"
   ]
  },
  {
   "cell_type": "code",
   "execution_count": 128,
   "id": "ec9d7efb-0c14-4f0f-9db7-2ecb584e8e8e",
   "metadata": {},
   "outputs": [
    {
     "data": {
      "text/plain": [
       "'1 W 2 R 3g'"
      ]
     },
     "execution_count": 128,
     "metadata": {},
     "output_type": "execute_result"
    }
   ],
   "source": [
    "solve(\"1 w 2 r 3g\")"
   ]
  },
  {
   "cell_type": "code",
   "execution_count": 162,
   "id": "dcdf6e34-52b0-4022-9173-341d82cbb1fd",
   "metadata": {},
   "outputs": [],
   "source": [
    "def breakingRecords(scores):\n",
    "    return_arr = [-1, -1]\n",
    "    for i, score in enumerate(scores):\n",
    "        if scores.index(max(scores[:i+1])) == i:\n",
    "            return_arr[0] += 1\n",
    "        if scores.index(min(scores[:i+1])) == i:\n",
    "            return_arr[1] += 1\n",
    "    return return_arr"
   ]
  },
  {
   "cell_type": "code",
   "execution_count": 163,
   "id": "74a166ca-21ec-4663-89e4-7ca880569038",
   "metadata": {},
   "outputs": [
    {
     "name": "stdout",
     "output_type": "stream",
     "text": [
      "new max: 10\n",
      "new max: 20\n",
      "new max: 25\n"
     ]
    },
    {
     "data": {
      "text/plain": [
       "[2, 4]"
      ]
     },
     "execution_count": 163,
     "metadata": {},
     "output_type": "execute_result"
    }
   ],
   "source": [
    "breakingRecords([10, 5, 20, 20, 4, 5, 2, 25, 1])"
   ]
  },
  {
   "cell_type": "code",
   "execution_count": 185,
   "id": "0bc060bf-b841-46c9-a963-7a00ee243d71",
   "metadata": {},
   "outputs": [],
   "source": [
    "def birthday(s, d, m):\n",
    "    l = [s[i-m:i] for i in range(m, len(s)+1) if sum(s[i-m:i]) == d]\n",
    "    return len(l)"
   ]
  },
  {
   "cell_type": "code",
   "execution_count": 189,
   "id": "874ee3c6-b569-4370-b718-422c121835cd",
   "metadata": {},
   "outputs": [
    {
     "data": {
      "text/plain": [
       "(2, 0, 1)"
      ]
     },
     "execution_count": 189,
     "metadata": {},
     "output_type": "execute_result"
    }
   ],
   "source": [
    "birthday([1, 2, 1, 3, 2], 3, 2), birthday([1, 1, 1, 1, 1, 1], 3, 2), birthday([4], 4, 1)"
   ]
  },
  {
   "cell_type": "code",
   "execution_count": 205,
   "id": "4f40a5c2-654a-4b92-a1fb-f30afd9621e0",
   "metadata": {},
   "outputs": [],
   "source": [
    "def divisibleSumPairs(n, k, ar):\n",
    "    pairs = []\n",
    "    for i, n in enumerate(ar):\n",
    "        pairs += [(n, x) for x in ar[i+1:]]\n",
    "    d_pairs = [p for p in pairs if not(p[0]+p[1])%k]\n",
    "    return len(d_pairs)"
   ]
  },
  {
   "cell_type": "code",
   "execution_count": 206,
   "id": "18efd275-2ee4-4bd7-ba25-c6be42d66581",
   "metadata": {},
   "outputs": [
    {
     "data": {
      "text/plain": [
       "5"
      ]
     },
     "execution_count": 206,
     "metadata": {},
     "output_type": "execute_result"
    }
   ],
   "source": [
    "divisibleSumPairs(6, 3, [1, 3, 2, 6, 1, 2])"
   ]
  },
  {
   "cell_type": "code",
   "execution_count": 232,
   "id": "c1c4327e-9c22-4fc3-9802-f3ed074f3201",
   "metadata": {},
   "outputs": [],
   "source": [
    "def gradingStudents(grades):\n",
    "    new_grades = []\n",
    "    for grade in grades:\n",
    "        if grade < 38:\n",
    "            new_grades.append(grade)\n",
    "        else:\n",
    "            ones_digit = int(str(grade)[-1])\n",
    "            if ones_digit < 5 and 5-ones_digit < 3:\n",
    "                new_grades.append(grade+(5-ones_digit))\n",
    "            elif ones_digit <= 9 and 10-ones_digit < 3:\n",
    "                new_grades.append(grade+(10 - ones_digit))\n",
    "            else:\n",
    "                new_grades.append(grade)\n",
    "    return new_grades"
   ]
  },
  {
   "cell_type": "code",
   "execution_count": 236,
   "id": "846a50db-ffb8-4b13-b169-d150959e9c70",
   "metadata": {},
   "outputs": [
    {
     "data": {
      "text/plain": [
       "[75, 67, 40, 33, 80]"
      ]
     },
     "execution_count": 236,
     "metadata": {},
     "output_type": "execute_result"
    }
   ],
   "source": [
    "gradingStudents([73, 67, 38, 33, 78])"
   ]
  },
  {
   "cell_type": "code",
   "execution_count": 276,
   "id": "4dd0e589-6db2-4c90-a00b-46bef76b67b6",
   "metadata": {},
   "outputs": [],
   "source": [
    "def migratoryBirds(arr):\n",
    "    ids = [1, 2, 3, 4, 5]\n",
    "    counts = [\n",
    "        arr.count(id_num) for id_num in ids\n",
    "    ]\n",
    "    return ids[counts.index(max(counts))]"
   ]
  },
  {
   "cell_type": "code",
   "execution_count": 277,
   "id": "558c0195-9ec4-4b6f-8503-287cf742c160",
   "metadata": {},
   "outputs": [
    {
     "data": {
      "text/plain": [
       "4"
      ]
     },
     "execution_count": 277,
     "metadata": {},
     "output_type": "execute_result"
    }
   ],
   "source": [
    "migratoryBirds([1, 4, 4, 4, 5, 3])"
   ]
  },
  {
   "cell_type": "code",
   "execution_count": 285,
   "id": "fc6c2ff4-5ad5-4565-b3cb-5d916325c76e",
   "metadata": {},
   "outputs": [],
   "source": [
    "def bonAppetit(bill, k, b):\n",
    "    b_act = sum([bill[i] for i in range(len(bill)) if i != k])/2\n",
    "    if b_act == b:\n",
    "        return \"Bon Appetit\"\n",
    "    else:\n",
    "        return b - b_act"
   ]
  },
  {
   "cell_type": "code",
   "execution_count": 286,
   "id": "90837b93-90a9-4635-b35e-b17d3900a5b8",
   "metadata": {},
   "outputs": [
    {
     "data": {
      "text/plain": [
       "5.0"
      ]
     },
     "execution_count": 286,
     "metadata": {},
     "output_type": "execute_result"
    }
   ],
   "source": [
    "bonAppetit([3, 10, 2, 9], 1, 12)"
   ]
  },
  {
   "cell_type": "code",
   "execution_count": 287,
   "id": "8de8133e-0deb-4138-afaa-9ee270bb385c",
   "metadata": {},
   "outputs": [
    {
     "data": {
      "text/plain": [
       "'Bon Appetit'"
      ]
     },
     "execution_count": 287,
     "metadata": {},
     "output_type": "execute_result"
    }
   ],
   "source": [
    "bonAppetit([3, 10, 2, 9], 1, 7)"
   ]
  },
  {
   "cell_type": "code",
   "execution_count": null,
   "id": "1bb47f76-1c3e-4bbf-9da4-4d5276e71818",
   "metadata": {},
   "outputs": [],
   "source": []
  }
 ],
 "metadata": {
  "kernelspec": {
   "display_name": "Python 3 (ipykernel)",
   "language": "python",
   "name": "python3"
  },
  "language_info": {
   "codemirror_mode": {
    "name": "ipython",
    "version": 3
   },
   "file_extension": ".py",
   "mimetype": "text/x-python",
   "name": "python",
   "nbconvert_exporter": "python",
   "pygments_lexer": "ipython3",
   "version": "3.9.12"
  }
 },
 "nbformat": 4,
 "nbformat_minor": 5
}
